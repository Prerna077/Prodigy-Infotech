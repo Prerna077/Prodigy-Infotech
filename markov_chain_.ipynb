{
  "nbformat": 4,
  "nbformat_minor": 0,
  "metadata": {
    "colab": {
      "provenance": []
    },
    "kernelspec": {
      "name": "python3",
      "display_name": "Python 3"
    },
    "language_info": {
      "name": "python"
    }
  },
  "cells": [
    {
      "cell_type": "code",
      "execution_count": 7,
      "metadata": {
        "colab": {
          "base_uri": "https://localhost:8080/"
        },
        "id": "kWcG7g1ZbSUb",
        "outputId": "346915ac-11d9-4d57-a1fb-6c04b452277a"
      },
      "outputs": [
        {
          "output_type": "stream",
          "name": "stdout",
          "text": [
            "Drive already mounted at /content/drive; to attempt to forcibly remount, call drive.mount(\"/content/drive\", force_remount=True).\n"
          ]
        }
      ],
      "source": [
        "from google.colab import drive\n",
        "drive.mount('/content/drive')"
      ]
    },
    {
      "cell_type": "code",
      "source": [
        "\n",
        "%cd /content/drive/My Drive/Colab Notebooks"
      ],
      "metadata": {
        "colab": {
          "base_uri": "https://localhost:8080/"
        },
        "id": "o5RmGaV3bZWB",
        "outputId": "d08fab43-7c70-47e3-8028-79f3dcab1121"
      },
      "execution_count": 8,
      "outputs": [
        {
          "output_type": "stream",
          "name": "stdout",
          "text": [
            "/content/drive/My Drive/Colab Notebooks\n"
          ]
        }
      ]
    },
    {
      "cell_type": "code",
      "source": [
        "\n",
        "!pip install markovify"
      ],
      "metadata": {
        "colab": {
          "base_uri": "https://localhost:8080/"
        },
        "id": "DTAVHKkjbbjZ",
        "outputId": "8468bfcf-820d-4750-a096-c6e733b053ca"
      },
      "execution_count": 9,
      "outputs": [
        {
          "output_type": "stream",
          "name": "stdout",
          "text": [
            "Requirement already satisfied: markovify in /usr/local/lib/python3.10/dist-packages (0.9.4)\n",
            "Requirement already satisfied: unidecode in /usr/local/lib/python3.10/dist-packages (from markovify) (1.3.8)\n"
          ]
        }
      ]
    },
    {
      "cell_type": "code",
      "source": [
        "import markovify\n",
        "import pandas as pd\n",
        "df = pd.read_csv(\"/content/drive/MyDrive/airport_reviews.csv\")"
      ],
      "metadata": {
        "id": "uJoEInHgbkdT"
      },
      "execution_count": 12,
      "outputs": []
    },
    {
      "cell_type": "code",
      "source": [
        "\n",
        "#Next, join the individual reviews into 1 large text string and build a Markov chain model using the airport review text\n",
        "from itertools import chain\n",
        "N=100\n",
        "review_subset = df[\"content\"][0:N]\n",
        "text = \"\".join(chain.from_iterable(review_subset))\n",
        "markov_chain_model = markovify.Text(text)"
      ],
      "metadata": {
        "id": "JMDUf2VKbnWJ"
      },
      "execution_count": 13,
      "outputs": []
    },
    {
      "cell_type": "code",
      "source": [
        "for i in range(5):\n",
        "  print(markov_chain_model.make_sentence())"
      ],
      "metadata": {
        "colab": {
          "base_uri": "https://localhost:8080/"
        },
        "id": "Z2itoY4abp2x",
        "outputId": "d8d83b2a-6dc1-452a-f3dd-4a261a662e0f"
      },
      "execution_count": 14,
      "outputs": [
        {
          "output_type": "stream",
          "name": "stdout",
          "text": [
            "Luggage took a bit longer to be unmanned resulting in a hallway unable to enter the terminal is much better than some other European standard airports.I flew from BRU on Jet Airways.\n",
            "OTP is a well-organised easy to navigate terminals.\n",
            "Expect very poor signage and it takes about 15min to get through this airport at Otopeni has the international standard and is an inefficient process.\n",
            "I was however required to take off shoes since they have not only built additional gates but also invested in some upgrades.\n",
            "Not crowded like many other Airports in Europe but duty free kiosk so could not get that stamped forfeiting the refund.\n"
          ]
        }
      ]
    },
    {
      "cell_type": "code",
      "source": [
        "for i in range(3):\n",
        "  print(markov_chain_model.make_short_sentence(140))\n",
        ""
      ],
      "metadata": {
        "colab": {
          "base_uri": "https://localhost:8080/"
        },
        "id": "E3yblfkLbs08",
        "outputId": "5d25ac24-eb7c-4bf6-88dd-06f2604cf32f"
      },
      "execution_count": 15,
      "outputs": [
        {
          "output_type": "stream",
          "name": "stdout",
          "text": [
            "Spacious clean and easy to get through the non-EU passport control is over crowded too.BRU is quite a challenge too.\n",
            "However Lavazza is a long wait for arriving passengers.\n",
            "The train service should be improved as it is a normal airport.\n"
          ]
        }
      ]
    }
  ]
}